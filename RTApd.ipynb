{
 "cells": [
  {
   "cell_type": "code",
   "execution_count": 3,
   "id": "d7d91f63-4c7b-41db-aca0-299662de2551",
   "metadata": {
    "tags": []
   },
   "outputs": [
    {
     "name": "stdout",
     "output_type": "stream",
     "text": [
      "Overwriting app.py\n"
     ]
    }
   ],
   "source": [
    "%%file app.py\n",
    "import pickle\n",
    "from math import log10\n",
    "\n",
    "from flask import Flask\n",
    "from flask import request\n",
    "from flask import jsonify\n",
    "import numpy as np\n",
    "\n",
    "import random\n",
    "\n",
    "class Perceptron():\n",
    "    \n",
    "    def __init__(self, eta=0.01, n_iter=10):\n",
    "        self.eta = eta\n",
    "        self.n_iter = n_iter\n",
    "    \n",
    "    def fit(self, X, y):\n",
    "        # self.w_ = np.zeros(1+X.shape[1])\n",
    "        \n",
    "        self.w_ = [random.uniform(-1.0, 1.0) for _ in range(1+X.shape[1])] \n",
    "        self.errors_ = []\n",
    "        \n",
    "        for _ in range(self.n_iter):\n",
    "            errors = 0\n",
    "            for xi, target in zip(X,y):\n",
    "                #print(xi, target)\n",
    "                update = self.eta*(target-self.predict(xi))\n",
    "                #print(update)\n",
    "                self.w_[1:] += update*xi\n",
    "                self.w_[0] += update\n",
    "                #print(self.w_)\n",
    "                errors += int(update != 0.0)\n",
    "            self.errors_.append(errors)\n",
    "        return self\n",
    "    \n",
    "    def net_input(self, X):\n",
    "        return np.dot(X, self.w_[1:])+self.w_[0]\n",
    "    \n",
    "    def predict(self, X):\n",
    "        return np.where(self.net_input(X)>=0.0,1,-1)\n",
    "\n",
    "# Create a flask\n",
    "app = Flask(__name__)\n",
    "\n",
    "# Create an API end point\n",
    "@app.route('/api/v1.0/predict', methods=['GET'])\n",
    "def get_prediction():\n",
    "\n",
    "    # sepal length\n",
    "    sepal_length = float(request.args.get('sl'))\n",
    "    # sepal width\n",
    "    #sepal_width = float(request.args.get('sw'))\n",
    "    # petal length\n",
    "    petal_length = float(request.args.get('pl'))\n",
    "    # petal width\n",
    "    #petal_width = float(request.args.get('pw'))\n",
    "\n",
    "    # The features of the observation to predict\n",
    "    #features = [sepal_length,\n",
    "    #            sepal_width,\n",
    "    #            petal_length,\n",
    "    #           petal_width]\n",
    "    \n",
    "    features = [sepal_length,\n",
    "                petal_length]\n",
    "    \n",
    "    #print(features)\n",
    "\n",
    "    with open('model.pkl',\"rb\") as picklefile:\n",
    "        model = pickle.load(picklefile)\n",
    "    print(model)\n",
    "\n",
    "    predicted_class = int(model.predict(features))\n",
    "    \n",
    "\n",
    "    return jsonify(features=features, predicted_class=predicted_class)\n",
    "\n",
    "if __name__ == '__main__':\n",
    "    app.run()"
   ]
  },
  {
   "cell_type": "code",
   "execution_count": 5,
   "id": "306b109e-cdda-4098-8acc-d427be5dfc98",
   "metadata": {
    "tags": []
   },
   "outputs": [
    {
     "name": "stdout",
     "output_type": "stream",
     "text": [
      "Overwriting Dockerfile\n"
     ]
    }
   ],
   "source": [
    "%%file Dockerfile\n",
    "\n",
    "FROM python:3.9\n",
    "#3.11.3-alpine3.17\n",
    "\n",
    "WORKDIR /app\n",
    "\n",
    "COPY app.py .\n",
    "COPY requirements.txt .\n",
    "COPY model.pkl .\n",
    "\n",
    "RUN pip install --no-cache-dir -r requirements.txt\n",
    "\n",
    "EXPOSE 8080\n",
    "\n",
    "ENTRYPOINT [\"python\"]\n",
    "\n",
    "CMD [\"app.py\"]"
   ]
  },
  {
   "cell_type": "code",
   "execution_count": 8,
   "id": "fdc684e9-4aa6-409b-9947-456d7de67c8f",
   "metadata": {
    "tags": []
   },
   "outputs": [
    {
     "name": "stdout",
     "output_type": "stream",
     "text": [
      "b'{\"features\":[4.5,1.3],\"predicted_class\":-1}\\n'\n"
     ]
    }
   ],
   "source": [
    "import requests\n",
    "response = requests.get(\"http://127.0.0.1:5000/api/v1.0/predict?&sl=4.5&pl=1.3\")\n",
    "print(response.content)"
   ]
  }
 ],
 "metadata": {
  "kernelspec": {
   "display_name": "Python 3 (ipykernel)",
   "language": "python",
   "name": "python3"
  },
  "language_info": {
   "codemirror_mode": {
    "name": "ipython",
    "version": 3
   },
   "file_extension": ".py",
   "mimetype": "text/x-python",
   "name": "python",
   "nbconvert_exporter": "python",
   "pygments_lexer": "ipython3",
   "version": "3.10.10"
  }
 },
 "nbformat": 4,
 "nbformat_minor": 5
}
